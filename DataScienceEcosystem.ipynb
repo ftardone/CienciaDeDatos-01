{
 "cells": [
  {
   "cell_type": "markdown",
   "id": "289969f7",
   "metadata": {},
   "source": [
    "# Data Science Tools and Ecosystem"
   ]
  },
  {
   "cell_type": "markdown",
   "id": "63d919e8",
   "metadata": {},
   "source": [
    "En este cuaderno, se resumen las herramientas y ecosistemas de ciencia de datos."
   ]
  },
  {
   "cell_type": "markdown",
   "id": "6d8c3fa8",
   "metadata": {},
   "source": [
    "**Objetivos:**\n",
    "\n",
    "- Listar lenguajes populares para Ciencia de Datos\n",
    "- Identificar bibliotecas comunes de Ciencia de Datos\n",
    "- Presentar herramientas de Ciencia de Datos"
   ]
  },
  {
   "cell_type": "markdown",
   "id": "7ce5fbba",
   "metadata": {},
   "source": [
    "Algunos de los lenguajes populares que utilizan los científicos de datos son:\n",
    "\n",
    "1. Python\n",
    "2. R\n",
    "3. SQL"
   ]
  },
  {
   "cell_type": "markdown",
   "id": "f4e52534",
   "metadata": {},
   "source": [
    "Algunas de las bibliotecas comúnmente utilizadas por los científicos de datos incluyen:\n",
    "\n",
    "1. Pandas\n",
    "2. NumPy\n",
    "3. Scikit-learn"
   ]
  },
  {
   "cell_type": "markdown",
   "id": "53177d33",
   "metadata": {},
   "source": [
    "| Herramientas de Ciencia de Datos |\n",
    "|-------------------------------|\n",
    "| Jupyter Notebooks             |\n",
    "| RStudio                       |\n",
    "| VS Code con extensiones de DS |\n"
   ]
  },
  {
   "cell_type": "markdown",
   "id": "2a91b944",
   "metadata": {},
   "source": [
    "### A continuación, se presentan algunos ejemplos de evaluación de expresiones aritméticas en Python."
   ]
  },
  {
   "cell_type": "code",
   "execution_count": null,
   "id": "f084ceba",
   "metadata": {},
   "outputs": [],
   "source": [
    "# Esta es una expresión aritmética simple para multiplicar y luego sumar enteros.\n",
    "(3*4)+5"
   ]
  },
  {
   "cell_type": "code",
   "execution_count": null,
   "id": "665ee184",
   "metadata": {},
   "outputs": [],
   "source": [
    "# Esto convertirá 200 minutos a horas dividiendo por 60.\n",
    "200 / 60"
   ]
  },
  {
   "cell_type": "markdown",
   "id": "ce0dd367",
   "metadata": {},
   "source": [
    "## Autor\n",
    "Francisco Tardone"
   ]
  }
 ],
 "metadata": {},
 "nbformat": 4,
 "nbformat_minor": 5
}
